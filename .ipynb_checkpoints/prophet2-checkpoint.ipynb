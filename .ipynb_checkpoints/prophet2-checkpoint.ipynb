{
 "cells": [
  {
   "cell_type": "markdown",
   "id": "46f4a481",
   "metadata": {},
   "source": [
    "# HDSC2022 Capstone Project\n",
    "## by Team Prophet"
   ]
  },
  {
   "cell_type": "markdown",
   "id": "ee68901f",
   "metadata": {},
   "source": [
    "The data was collected through web scraping https://www.cucas.edu.cn/china_scholarships/ <br>\n",
    "The code to the web scraping program and data cleaning program is stored in https://github.com/mcmuralishclint/CUCAS <br>\n",
    "The dataset contains information about the scholarship programs in China as of May 2019. <br>\n",
    "\n",
    "The goal of this project is to predict the total additional expense to pay given a scholarship in some region of China."
   ]
  },
  {
   "cell_type": "code",
   "execution_count": null,
   "id": "9820e6b4",
   "metadata": {},
   "outputs": [],
   "source": []
  },
  {
   "cell_type": "code",
   "execution_count": null,
   "id": "ce1b0649",
   "metadata": {},
   "outputs": [],
   "source": []
  },
  {
   "cell_type": "code",
   "execution_count": null,
   "id": "acf1781b",
   "metadata": {},
   "outputs": [],
   "source": []
  },
  {
   "cell_type": "code",
   "execution_count": null,
   "id": "63e9e10d",
   "metadata": {},
   "outputs": [],
   "source": []
  },
  {
   "cell_type": "code",
   "execution_count": null,
   "id": "d23c2efc",
   "metadata": {},
   "outputs": [],
   "source": []
  }
 ],
 "metadata": {
  "kernelspec": {
   "display_name": "Python 3 (ipykernel)",
   "language": "python",
   "name": "python3"
  },
  "language_info": {
   "codemirror_mode": {
    "name": "ipython",
    "version": 3
   },
   "file_extension": ".py",
   "mimetype": "text/x-python",
   "name": "python",
   "nbconvert_exporter": "python",
   "pygments_lexer": "ipython3",
   "version": "3.9.7"
  }
 },
 "nbformat": 4,
 "nbformat_minor": 5
}
