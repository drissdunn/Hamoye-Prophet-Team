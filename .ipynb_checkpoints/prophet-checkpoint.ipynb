{
 "cells": [
  {
   "cell_type": "markdown",
   "id": "9e6ed0cd",
   "metadata": {},
   "source": [
    "# Predicting China Scholarship additional cost and the amount to spend on Accomodation"
   ]
  },
  {
   "cell_type": "code",
   "execution_count": 1,
   "id": "e22f0b37",
   "metadata": {},
   "outputs": [],
   "source": [
    "# Import libraries\n",
    "import pandas as pd\n",
    "import numpy as np\n",
    "import matplotlib.pyplot as plt\n",
    "import seaborn as sns\n",
    "import math\n",
    "import plotly.express as pe #you might need to pip install cufflinks\n",
    "import plotly.offline as po\n",
    "import cufflinks as cl\n",
    "from sklearn.preprocessing import LabelEncoder, MinMaxScaler\n",
    "from sklearn.metrics import mean_absolute_error\n",
    "from sklearn.model_selection import train_test_split\n",
    "\n",
    "%matplotlib inline\n",
    "import warnings\n",
    "warnings.filterwarnings('ignore')"
   ]
  },
  {
   "cell_type": "code",
   "execution_count": 2,
   "id": "871c695c",
   "metadata": {},
   "outputs": [],
   "source": [
    "# We are going to read the csv file using read_csv() function \n",
    "initial_data = pd.read_csv('./data/original.csv')"
   ]
  },
  {
   "cell_type": "code",
   "execution_count": 3,
   "id": "2a7b5874",
   "metadata": {},
   "outputs": [
    {
     "data": {
      "text/html": [
       "<div>\n",
       "<style scoped>\n",
       "    .dataframe tbody tr th:only-of-type {\n",
       "        vertical-align: middle;\n",
       "    }\n",
       "\n",
       "    .dataframe tbody tr th {\n",
       "        vertical-align: top;\n",
       "    }\n",
       "\n",
       "    .dataframe thead th {\n",
       "        text-align: right;\n",
       "    }\n",
       "</style>\n",
       "<table border=\"1\" class=\"dataframe\">\n",
       "  <thead>\n",
       "    <tr style=\"text-align: right;\">\n",
       "      <th></th>\n",
       "      <th>schol_id</th>\n",
       "      <th>University</th>\n",
       "      <th>Major</th>\n",
       "      <th>Level</th>\n",
       "      <th>Language</th>\n",
       "      <th>Tuition Covered</th>\n",
       "      <th>Accomodation covered?</th>\n",
       "      <th>Living Expense Covered?</th>\n",
       "      <th>Tuition fees to pay</th>\n",
       "      <th>Original Tuition fee</th>\n",
       "      <th>Start_Month</th>\n",
       "      <th>Start_Year</th>\n",
       "      <th>Accomodation_To_Pay</th>\n",
       "      <th>Accomodation_duration</th>\n",
       "      <th>Expense_To_Pay</th>\n",
       "      <th>Expense_duration</th>\n",
       "    </tr>\n",
       "  </thead>\n",
       "  <tbody>\n",
       "    <tr>\n",
       "      <th>0</th>\n",
       "      <td>1</td>\n",
       "      <td>Shanghai University of Traditional Chinese Med...</td>\n",
       "      <td>Summer School (TCM)</td>\n",
       "      <td>Non-Degree</td>\n",
       "      <td>English</td>\n",
       "      <td>7500.0</td>\n",
       "      <td>0</td>\n",
       "      <td>0</td>\n",
       "      <td>0</td>\n",
       "      <td>7500.0</td>\n",
       "      <td>Jun</td>\n",
       "      <td>2020</td>\n",
       "      <td>9750.0</td>\n",
       "      <td>MONTH</td>\n",
       "      <td>1000.0</td>\n",
       "      <td>MONTH</td>\n",
       "    </tr>\n",
       "    <tr>\n",
       "      <th>1</th>\n",
       "      <td>2</td>\n",
       "      <td>Changchun University of Science and Technology</td>\n",
       "      <td>Preparatory Program of Humanities Direction(Pa...</td>\n",
       "      <td>Non-Degree</td>\n",
       "      <td>Chinese</td>\n",
       "      <td>10000.0</td>\n",
       "      <td>0</td>\n",
       "      <td>0</td>\n",
       "      <td>10000</td>\n",
       "      <td>20000.0</td>\n",
       "      <td>Sep</td>\n",
       "      <td>2019</td>\n",
       "      <td>1500.0</td>\n",
       "      <td>MONTH</td>\n",
       "      <td>1500.0</td>\n",
       "      <td>MONTH</td>\n",
       "    </tr>\n",
       "    <tr>\n",
       "      <th>2</th>\n",
       "      <td>3</td>\n",
       "      <td>Changchun University of Science and Technology</td>\n",
       "      <td>Preparatory Program of Business Direction(Path A)</td>\n",
       "      <td>Non-Degree</td>\n",
       "      <td>Chinese</td>\n",
       "      <td>10000.0</td>\n",
       "      <td>0</td>\n",
       "      <td>0</td>\n",
       "      <td>10000</td>\n",
       "      <td>20000.0</td>\n",
       "      <td>Sep</td>\n",
       "      <td>2019</td>\n",
       "      <td>1500.0</td>\n",
       "      <td>MONTH</td>\n",
       "      <td>1500.0</td>\n",
       "      <td>MONTH</td>\n",
       "    </tr>\n",
       "    <tr>\n",
       "      <th>3</th>\n",
       "      <td>4</td>\n",
       "      <td>Changchun University of Science and Technology</td>\n",
       "      <td>Preparatory Program of Science and Engineering...</td>\n",
       "      <td>Non-Degree</td>\n",
       "      <td>Chinese</td>\n",
       "      <td>10000.0</td>\n",
       "      <td>0</td>\n",
       "      <td>0</td>\n",
       "      <td>10000</td>\n",
       "      <td>20000.0</td>\n",
       "      <td>Sep</td>\n",
       "      <td>2019</td>\n",
       "      <td>1500.0</td>\n",
       "      <td>MONTH</td>\n",
       "      <td>1500.0</td>\n",
       "      <td>MONTH</td>\n",
       "    </tr>\n",
       "    <tr>\n",
       "      <th>4</th>\n",
       "      <td>5</td>\n",
       "      <td>Qingdao University</td>\n",
       "      <td>Long-term Chinese Language Program</td>\n",
       "      <td>Non-Degree</td>\n",
       "      <td>Chinese</td>\n",
       "      <td>7000.0</td>\n",
       "      <td>1</td>\n",
       "      <td>1</td>\n",
       "      <td>0</td>\n",
       "      <td>7000.0</td>\n",
       "      <td>Sep</td>\n",
       "      <td>2019</td>\n",
       "      <td>0.0</td>\n",
       "      <td>YEAR</td>\n",
       "      <td>0.0</td>\n",
       "      <td>MONTH</td>\n",
       "    </tr>\n",
       "  </tbody>\n",
       "</table>\n",
       "</div>"
      ],
      "text/plain": [
       "   schol_id                                         University  \\\n",
       "0         1  Shanghai University of Traditional Chinese Med...   \n",
       "1         2     Changchun University of Science and Technology   \n",
       "2         3     Changchun University of Science and Technology   \n",
       "3         4     Changchun University of Science and Technology   \n",
       "4         5                                 Qingdao University   \n",
       "\n",
       "                                               Major       Level Language  \\\n",
       "0                                Summer School (TCM)  Non-Degree  English   \n",
       "1  Preparatory Program of Humanities Direction(Pa...  Non-Degree  Chinese   \n",
       "2  Preparatory Program of Business Direction(Path A)  Non-Degree  Chinese   \n",
       "3  Preparatory Program of Science and Engineering...  Non-Degree  Chinese   \n",
       "4                 Long-term Chinese Language Program  Non-Degree  Chinese   \n",
       "\n",
       "   Tuition Covered  Accomodation covered?  Living Expense Covered?  \\\n",
       "0           7500.0                      0                        0   \n",
       "1          10000.0                      0                        0   \n",
       "2          10000.0                      0                        0   \n",
       "3          10000.0                      0                        0   \n",
       "4           7000.0                      1                        1   \n",
       "\n",
       "   Tuition fees to pay  Original Tuition fee Start_Month  Start_Year  \\\n",
       "0                    0                7500.0         Jun        2020   \n",
       "1                10000               20000.0         Sep        2019   \n",
       "2                10000               20000.0         Sep        2019   \n",
       "3                10000               20000.0         Sep        2019   \n",
       "4                    0                7000.0         Sep        2019   \n",
       "\n",
       "   Accomodation_To_Pay Accomodation_duration  Expense_To_Pay Expense_duration  \n",
       "0               9750.0                 MONTH          1000.0            MONTH  \n",
       "1               1500.0                 MONTH          1500.0            MONTH  \n",
       "2               1500.0                 MONTH          1500.0            MONTH  \n",
       "3               1500.0                 MONTH          1500.0            MONTH  \n",
       "4                  0.0                  YEAR             0.0            MONTH  "
      ]
     },
     "execution_count": 3,
     "metadata": {},
     "output_type": "execute_result"
    }
   ],
   "source": [
    "initial_data.head()"
   ]
  },
  {
   "cell_type": "markdown",
   "id": "33e4e892",
   "metadata": {},
   "source": [
    "To have a perfect model, we decided to add more information to the dataset"
   ]
  },
  {
   "cell_type": "code",
   "execution_count": 4,
   "id": "b97b5221",
   "metadata": {},
   "outputs": [],
   "source": [
    "# We are going to read the csv file using read_excel() function \n",
    "data = pd.read_excel('./data/china_scholarship.xls')  #might also need to pip install xlrd\n",
    "#data is our upgraded dataset"
   ]
  },
  {
   "cell_type": "code",
   "execution_count": 5,
   "id": "ab288c97",
   "metadata": {},
   "outputs": [
    {
     "data": {
      "text/html": [
       "<div>\n",
       "<style scoped>\n",
       "    .dataframe tbody tr th:only-of-type {\n",
       "        vertical-align: middle;\n",
       "    }\n",
       "\n",
       "    .dataframe tbody tr th {\n",
       "        vertical-align: top;\n",
       "    }\n",
       "\n",
       "    .dataframe thead th {\n",
       "        text-align: right;\n",
       "    }\n",
       "</style>\n",
       "<table border=\"1\" class=\"dataframe\">\n",
       "  <thead>\n",
       "    <tr style=\"text-align: right;\">\n",
       "      <th></th>\n",
       "      <th>schol_id</th>\n",
       "      <th>University</th>\n",
       "      <th>Major</th>\n",
       "      <th>Location / District</th>\n",
       "      <th>Province / City</th>\n",
       "      <th>Level</th>\n",
       "      <th>Language</th>\n",
       "      <th>Tuition Covered</th>\n",
       "      <th>Accomodation covered?</th>\n",
       "      <th>Living Expense Covered?</th>\n",
       "      <th>Tuition fees to pay</th>\n",
       "      <th>Original Tuition fee</th>\n",
       "      <th>Start_Month</th>\n",
       "      <th>Start_Year</th>\n",
       "      <th>Accomodation_To_Pay</th>\n",
       "      <th>Accomodation_duration</th>\n",
       "      <th>Expense_To_Pay</th>\n",
       "      <th>Expense_duration</th>\n",
       "    </tr>\n",
       "  </thead>\n",
       "  <tbody>\n",
       "    <tr>\n",
       "      <th>0</th>\n",
       "      <td>1</td>\n",
       "      <td>Shanghai University of Traditional Chinese Med...</td>\n",
       "      <td>Summer School (TCM)</td>\n",
       "      <td>Xuhui</td>\n",
       "      <td>Shanghai</td>\n",
       "      <td>Non-Degree</td>\n",
       "      <td>English</td>\n",
       "      <td>7500.0</td>\n",
       "      <td>0</td>\n",
       "      <td>0</td>\n",
       "      <td>0</td>\n",
       "      <td>7500.0</td>\n",
       "      <td>Jun</td>\n",
       "      <td>2020</td>\n",
       "      <td>9750</td>\n",
       "      <td>MONTH</td>\n",
       "      <td>1000</td>\n",
       "      <td>MONTH</td>\n",
       "    </tr>\n",
       "    <tr>\n",
       "      <th>1</th>\n",
       "      <td>2</td>\n",
       "      <td>Changchun University of Science and Technology</td>\n",
       "      <td>Preparatory Program of Humanities Direction(Pa...</td>\n",
       "      <td>Chaoyang</td>\n",
       "      <td>Jilin</td>\n",
       "      <td>Non-Degree</td>\n",
       "      <td>Chinese</td>\n",
       "      <td>10000.0</td>\n",
       "      <td>0</td>\n",
       "      <td>0</td>\n",
       "      <td>10000</td>\n",
       "      <td>20000.0</td>\n",
       "      <td>Sep</td>\n",
       "      <td>2019</td>\n",
       "      <td>1500</td>\n",
       "      <td>MONTH</td>\n",
       "      <td>1500</td>\n",
       "      <td>MONTH</td>\n",
       "    </tr>\n",
       "    <tr>\n",
       "      <th>2</th>\n",
       "      <td>3</td>\n",
       "      <td>Changchun University of Science and Technology</td>\n",
       "      <td>Preparatory Program of Business Direction(Path A)</td>\n",
       "      <td>Chaoyang</td>\n",
       "      <td>Jilin</td>\n",
       "      <td>Non-Degree</td>\n",
       "      <td>Chinese</td>\n",
       "      <td>10000.0</td>\n",
       "      <td>0</td>\n",
       "      <td>0</td>\n",
       "      <td>10000</td>\n",
       "      <td>20000.0</td>\n",
       "      <td>Sep</td>\n",
       "      <td>2019</td>\n",
       "      <td>1500</td>\n",
       "      <td>MONTH</td>\n",
       "      <td>1500</td>\n",
       "      <td>MONTH</td>\n",
       "    </tr>\n",
       "    <tr>\n",
       "      <th>3</th>\n",
       "      <td>4</td>\n",
       "      <td>Changchun University of Science and Technology</td>\n",
       "      <td>Preparatory Program of Science and Engineering...</td>\n",
       "      <td>Chaoyang</td>\n",
       "      <td>Jilin</td>\n",
       "      <td>Non-Degree</td>\n",
       "      <td>Chinese</td>\n",
       "      <td>10000.0</td>\n",
       "      <td>0</td>\n",
       "      <td>0</td>\n",
       "      <td>10000</td>\n",
       "      <td>20000.0</td>\n",
       "      <td>Sep</td>\n",
       "      <td>2019</td>\n",
       "      <td>1500</td>\n",
       "      <td>MONTH</td>\n",
       "      <td>1500</td>\n",
       "      <td>MONTH</td>\n",
       "    </tr>\n",
       "    <tr>\n",
       "      <th>4</th>\n",
       "      <td>5</td>\n",
       "      <td>Qingdao University</td>\n",
       "      <td>Long-term Chinese Language Program</td>\n",
       "      <td>Qingdao</td>\n",
       "      <td>Shandong</td>\n",
       "      <td>Non-Degree</td>\n",
       "      <td>Chinese</td>\n",
       "      <td>7000.0</td>\n",
       "      <td>1</td>\n",
       "      <td>1</td>\n",
       "      <td>0</td>\n",
       "      <td>7000.0</td>\n",
       "      <td>Sep</td>\n",
       "      <td>2019</td>\n",
       "      <td>0</td>\n",
       "      <td>YEAR</td>\n",
       "      <td>0</td>\n",
       "      <td>MONTH</td>\n",
       "    </tr>\n",
       "  </tbody>\n",
       "</table>\n",
       "</div>"
      ],
      "text/plain": [
       "   schol_id                                         University  \\\n",
       "0         1  Shanghai University of Traditional Chinese Med...   \n",
       "1         2     Changchun University of Science and Technology   \n",
       "2         3     Changchun University of Science and Technology   \n",
       "3         4     Changchun University of Science and Technology   \n",
       "4         5                                 Qingdao University   \n",
       "\n",
       "                                               Major Location / District  \\\n",
       "0                                Summer School (TCM)               Xuhui   \n",
       "1  Preparatory Program of Humanities Direction(Pa...           Chaoyang    \n",
       "2  Preparatory Program of Business Direction(Path A)           Chaoyang    \n",
       "3  Preparatory Program of Science and Engineering...           Chaoyang    \n",
       "4                 Long-term Chinese Language Program             Qingdao   \n",
       "\n",
       "  Province / City       Level Language  Tuition Covered  \\\n",
       "0        Shanghai  Non-Degree  English           7500.0   \n",
       "1           Jilin  Non-Degree  Chinese          10000.0   \n",
       "2           Jilin  Non-Degree  Chinese          10000.0   \n",
       "3           Jilin  Non-Degree  Chinese          10000.0   \n",
       "4        Shandong  Non-Degree  Chinese           7000.0   \n",
       "\n",
       "   Accomodation covered?  Living Expense Covered?  Tuition fees to pay  \\\n",
       "0                      0                        0                    0   \n",
       "1                      0                        0                10000   \n",
       "2                      0                        0                10000   \n",
       "3                      0                        0                10000   \n",
       "4                      1                        1                    0   \n",
       "\n",
       "   Original Tuition fee Start_Month  Start_Year  Accomodation_To_Pay  \\\n",
       "0                7500.0         Jun        2020                 9750   \n",
       "1               20000.0         Sep        2019                 1500   \n",
       "2               20000.0         Sep        2019                 1500   \n",
       "3               20000.0         Sep        2019                 1500   \n",
       "4                7000.0         Sep        2019                    0   \n",
       "\n",
       "  Accomodation_duration  Expense_To_Pay Expense_duration  \n",
       "0                 MONTH            1000            MONTH  \n",
       "1                 MONTH            1500            MONTH  \n",
       "2                 MONTH            1500            MONTH  \n",
       "3                 MONTH            1500            MONTH  \n",
       "4                  YEAR               0            MONTH  "
      ]
     },
     "execution_count": 5,
     "metadata": {},
     "output_type": "execute_result"
    }
   ],
   "source": [
    "data.head()"
   ]
  },
  {
   "cell_type": "code",
   "execution_count": 6,
   "id": "443938ab",
   "metadata": {},
   "outputs": [
    {
     "data": {
      "text/plain": [
       "Index(['schol_id', 'University', 'Major', 'Level', 'Language',\n",
       "       'Tuition Covered', 'Accomodation covered?', 'Living Expense Covered?',\n",
       "       'Tuition fees to pay', 'Original Tuition fee', 'Start_Month',\n",
       "       'Start_Year', 'Accomodation_To_Pay', 'Accomodation_duration',\n",
       "       'Expense_To_Pay', 'Expense_duration'],\n",
       "      dtype='object')"
      ]
     },
     "execution_count": 6,
     "metadata": {},
     "output_type": "execute_result"
    }
   ],
   "source": [
    "initial_data.columns"
   ]
  },
  {
   "cell_type": "code",
   "execution_count": 7,
   "id": "7cb041f1",
   "metadata": {},
   "outputs": [
    {
     "data": {
      "text/plain": [
       "Index(['schol_id', 'University', 'Major', 'Location / District',\n",
       "       'Province / City', 'Level', 'Language', 'Tuition Covered',\n",
       "       'Accomodation covered?', 'Living Expense Covered?',\n",
       "       'Tuition fees to pay', 'Original Tuition fee', 'Start_Month',\n",
       "       'Start_Year', 'Accomodation_To_Pay', 'Accomodation_duration',\n",
       "       'Expense_To_Pay', 'Expense_duration'],\n",
       "      dtype='object')"
      ]
     },
     "execution_count": 7,
     "metadata": {},
     "output_type": "execute_result"
    }
   ],
   "source": [
    "data.columns"
   ]
  },
  {
   "cell_type": "code",
   "execution_count": 8,
   "id": "40395bf2",
   "metadata": {},
   "outputs": [],
   "source": [
    "# We are going to rename the columns using the snake_case naming convention to improve readability\n",
    "data.columns = ['school_id', 'university', 'major', 'district', 'city', 'level', 'language', 'tuition_covered', 'accomodation_covered',\n",
    "'living_expense_covered', 'tuition_fees_to_pay', 'original_tuition_fee','start_month','start_year', 'accomodation_to_pay',\n",
    "'accomodation_duration', 'expense_to_pay', 'expense_duration']"
   ]
  },
  {
   "cell_type": "code",
   "execution_count": 9,
   "id": "78478dd0",
   "metadata": {},
   "outputs": [
    {
     "name": "stdout",
     "output_type": "stream",
     "text": [
      "<class 'pandas.core.frame.DataFrame'>\n",
      "RangeIndex: 3576 entries, 0 to 3575\n",
      "Data columns (total 18 columns):\n",
      " #   Column                  Non-Null Count  Dtype  \n",
      "---  ------                  --------------  -----  \n",
      " 0   school_id               3576 non-null   int64  \n",
      " 1   university              3576 non-null   object \n",
      " 2   major                   3576 non-null   object \n",
      " 3   district                3576 non-null   object \n",
      " 4   city                    3576 non-null   object \n",
      " 5   level                   3576 non-null   object \n",
      " 6   language                3576 non-null   object \n",
      " 7   tuition_covered         3453 non-null   float64\n",
      " 8   accomodation_covered    3576 non-null   int64  \n",
      " 9   living_expense_covered  3576 non-null   int64  \n",
      " 10  tuition_fees_to_pay     3576 non-null   int64  \n",
      " 11  original_tuition_fee    3453 non-null   float64\n",
      " 12  start_month             3576 non-null   object \n",
      " 13  start_year              3576 non-null   int64  \n",
      " 14  accomodation_to_pay     3576 non-null   int64  \n",
      " 15  accomodation_duration   3576 non-null   object \n",
      " 16  expense_to_pay          3576 non-null   int64  \n",
      " 17  expense_duration        3576 non-null   object \n",
      "dtypes: float64(2), int64(7), object(9)\n",
      "memory usage: 503.0+ KB\n"
     ]
    }
   ],
   "source": [
    "# Let us view an intuitive summary of our dataframe\n",
    "data.info()"
   ]
  },
  {
   "cell_type": "code",
   "execution_count": 10,
   "id": "6cac3111",
   "metadata": {},
   "outputs": [
    {
     "data": {
      "text/html": [
       "<div>\n",
       "<style scoped>\n",
       "    .dataframe tbody tr th:only-of-type {\n",
       "        vertical-align: middle;\n",
       "    }\n",
       "\n",
       "    .dataframe tbody tr th {\n",
       "        vertical-align: top;\n",
       "    }\n",
       "\n",
       "    .dataframe thead th {\n",
       "        text-align: right;\n",
       "    }\n",
       "</style>\n",
       "<table border=\"1\" class=\"dataframe\">\n",
       "  <thead>\n",
       "    <tr style=\"text-align: right;\">\n",
       "      <th></th>\n",
       "      <th>school_id</th>\n",
       "      <th>university</th>\n",
       "      <th>major</th>\n",
       "      <th>district</th>\n",
       "      <th>city</th>\n",
       "      <th>level</th>\n",
       "      <th>language</th>\n",
       "      <th>tuition_covered</th>\n",
       "      <th>accomodation_covered</th>\n",
       "      <th>living_expense_covered</th>\n",
       "      <th>tuition_fees_to_pay</th>\n",
       "      <th>original_tuition_fee</th>\n",
       "      <th>start_month</th>\n",
       "      <th>start_year</th>\n",
       "      <th>accomodation_to_pay</th>\n",
       "      <th>accomodation_duration</th>\n",
       "      <th>expense_to_pay</th>\n",
       "      <th>expense_duration</th>\n",
       "    </tr>\n",
       "  </thead>\n",
       "  <tbody>\n",
       "    <tr>\n",
       "      <th>0</th>\n",
       "      <td>1</td>\n",
       "      <td>Shanghai University of Traditional Chinese Med...</td>\n",
       "      <td>Summer School (TCM)</td>\n",
       "      <td>Xuhui</td>\n",
       "      <td>Shanghai</td>\n",
       "      <td>Non-Degree</td>\n",
       "      <td>English</td>\n",
       "      <td>7500.0</td>\n",
       "      <td>0</td>\n",
       "      <td>0</td>\n",
       "      <td>0</td>\n",
       "      <td>7500.0</td>\n",
       "      <td>Jun</td>\n",
       "      <td>2020</td>\n",
       "      <td>9750</td>\n",
       "      <td>MONTH</td>\n",
       "      <td>1000</td>\n",
       "      <td>MONTH</td>\n",
       "    </tr>\n",
       "    <tr>\n",
       "      <th>1</th>\n",
       "      <td>2</td>\n",
       "      <td>Changchun University of Science and Technology</td>\n",
       "      <td>Preparatory Program of Humanities Direction(Pa...</td>\n",
       "      <td>Chaoyang</td>\n",
       "      <td>Jilin</td>\n",
       "      <td>Non-Degree</td>\n",
       "      <td>Chinese</td>\n",
       "      <td>10000.0</td>\n",
       "      <td>0</td>\n",
       "      <td>0</td>\n",
       "      <td>10000</td>\n",
       "      <td>20000.0</td>\n",
       "      <td>Sep</td>\n",
       "      <td>2019</td>\n",
       "      <td>1500</td>\n",
       "      <td>MONTH</td>\n",
       "      <td>1500</td>\n",
       "      <td>MONTH</td>\n",
       "    </tr>\n",
       "    <tr>\n",
       "      <th>2</th>\n",
       "      <td>3</td>\n",
       "      <td>Changchun University of Science and Technology</td>\n",
       "      <td>Preparatory Program of Business Direction(Path A)</td>\n",
       "      <td>Chaoyang</td>\n",
       "      <td>Jilin</td>\n",
       "      <td>Non-Degree</td>\n",
       "      <td>Chinese</td>\n",
       "      <td>10000.0</td>\n",
       "      <td>0</td>\n",
       "      <td>0</td>\n",
       "      <td>10000</td>\n",
       "      <td>20000.0</td>\n",
       "      <td>Sep</td>\n",
       "      <td>2019</td>\n",
       "      <td>1500</td>\n",
       "      <td>MONTH</td>\n",
       "      <td>1500</td>\n",
       "      <td>MONTH</td>\n",
       "    </tr>\n",
       "    <tr>\n",
       "      <th>3</th>\n",
       "      <td>4</td>\n",
       "      <td>Changchun University of Science and Technology</td>\n",
       "      <td>Preparatory Program of Science and Engineering...</td>\n",
       "      <td>Chaoyang</td>\n",
       "      <td>Jilin</td>\n",
       "      <td>Non-Degree</td>\n",
       "      <td>Chinese</td>\n",
       "      <td>10000.0</td>\n",
       "      <td>0</td>\n",
       "      <td>0</td>\n",
       "      <td>10000</td>\n",
       "      <td>20000.0</td>\n",
       "      <td>Sep</td>\n",
       "      <td>2019</td>\n",
       "      <td>1500</td>\n",
       "      <td>MONTH</td>\n",
       "      <td>1500</td>\n",
       "      <td>MONTH</td>\n",
       "    </tr>\n",
       "    <tr>\n",
       "      <th>4</th>\n",
       "      <td>5</td>\n",
       "      <td>Qingdao University</td>\n",
       "      <td>Long-term Chinese Language Program</td>\n",
       "      <td>Qingdao</td>\n",
       "      <td>Shandong</td>\n",
       "      <td>Non-Degree</td>\n",
       "      <td>Chinese</td>\n",
       "      <td>7000.0</td>\n",
       "      <td>1</td>\n",
       "      <td>1</td>\n",
       "      <td>0</td>\n",
       "      <td>7000.0</td>\n",
       "      <td>Sep</td>\n",
       "      <td>2019</td>\n",
       "      <td>0</td>\n",
       "      <td>YEAR</td>\n",
       "      <td>0</td>\n",
       "      <td>MONTH</td>\n",
       "    </tr>\n",
       "  </tbody>\n",
       "</table>\n",
       "</div>"
      ],
      "text/plain": [
       "   school_id                                         university  \\\n",
       "0          1  Shanghai University of Traditional Chinese Med...   \n",
       "1          2     Changchun University of Science and Technology   \n",
       "2          3     Changchun University of Science and Technology   \n",
       "3          4     Changchun University of Science and Technology   \n",
       "4          5                                 Qingdao University   \n",
       "\n",
       "                                               major   district      city  \\\n",
       "0                                Summer School (TCM)      Xuhui  Shanghai   \n",
       "1  Preparatory Program of Humanities Direction(Pa...  Chaoyang      Jilin   \n",
       "2  Preparatory Program of Business Direction(Path A)  Chaoyang      Jilin   \n",
       "3  Preparatory Program of Science and Engineering...  Chaoyang      Jilin   \n",
       "4                 Long-term Chinese Language Program    Qingdao  Shandong   \n",
       "\n",
       "        level language  tuition_covered  accomodation_covered  \\\n",
       "0  Non-Degree  English           7500.0                     0   \n",
       "1  Non-Degree  Chinese          10000.0                     0   \n",
       "2  Non-Degree  Chinese          10000.0                     0   \n",
       "3  Non-Degree  Chinese          10000.0                     0   \n",
       "4  Non-Degree  Chinese           7000.0                     1   \n",
       "\n",
       "   living_expense_covered  tuition_fees_to_pay  original_tuition_fee  \\\n",
       "0                       0                    0                7500.0   \n",
       "1                       0                10000               20000.0   \n",
       "2                       0                10000               20000.0   \n",
       "3                       0                10000               20000.0   \n",
       "4                       1                    0                7000.0   \n",
       "\n",
       "  start_month  start_year  accomodation_to_pay accomodation_duration  \\\n",
       "0         Jun        2020                 9750                 MONTH   \n",
       "1         Sep        2019                 1500                 MONTH   \n",
       "2         Sep        2019                 1500                 MONTH   \n",
       "3         Sep        2019                 1500                 MONTH   \n",
       "4         Sep        2019                    0                  YEAR   \n",
       "\n",
       "   expense_to_pay expense_duration  \n",
       "0            1000            MONTH  \n",
       "1            1500            MONTH  \n",
       "2            1500            MONTH  \n",
       "3            1500            MONTH  \n",
       "4               0            MONTH  "
      ]
     },
     "execution_count": 10,
     "metadata": {},
     "output_type": "execute_result"
    }
   ],
   "source": [
    "# Now let us see a preview of the data by looking at the first 5 rows \n",
    "data.head()"
   ]
  },
  {
   "cell_type": "code",
   "execution_count": 11,
   "id": "ab243f14",
   "metadata": {},
   "outputs": [
    {
     "data": {
      "text/html": [
       "<div>\n",
       "<style scoped>\n",
       "    .dataframe tbody tr th:only-of-type {\n",
       "        vertical-align: middle;\n",
       "    }\n",
       "\n",
       "    .dataframe tbody tr th {\n",
       "        vertical-align: top;\n",
       "    }\n",
       "\n",
       "    .dataframe thead th {\n",
       "        text-align: right;\n",
       "    }\n",
       "</style>\n",
       "<table border=\"1\" class=\"dataframe\">\n",
       "  <thead>\n",
       "    <tr style=\"text-align: right;\">\n",
       "      <th></th>\n",
       "      <th>school_id</th>\n",
       "      <th>university</th>\n",
       "      <th>major</th>\n",
       "      <th>district</th>\n",
       "      <th>city</th>\n",
       "      <th>level</th>\n",
       "      <th>language</th>\n",
       "      <th>tuition_covered</th>\n",
       "      <th>accomodation_covered</th>\n",
       "      <th>living_expense_covered</th>\n",
       "      <th>tuition_fees_to_pay</th>\n",
       "      <th>original_tuition_fee</th>\n",
       "      <th>start_month</th>\n",
       "      <th>start_year</th>\n",
       "      <th>accomodation_to_pay</th>\n",
       "      <th>accomodation_duration</th>\n",
       "      <th>expense_to_pay</th>\n",
       "      <th>expense_duration</th>\n",
       "    </tr>\n",
       "  </thead>\n",
       "  <tbody>\n",
       "    <tr>\n",
       "      <th>3571</th>\n",
       "      <td>3601</td>\n",
       "      <td>East China University of Science and Technology</td>\n",
       "      <td>Environmental Science and Engineering</td>\n",
       "      <td>Xuhui District</td>\n",
       "      <td>Shanghai</td>\n",
       "      <td>Phd</td>\n",
       "      <td>English</td>\n",
       "      <td>38950.0</td>\n",
       "      <td>1</td>\n",
       "      <td>1</td>\n",
       "      <td>0</td>\n",
       "      <td>38950.0</td>\n",
       "      <td>Sep</td>\n",
       "      <td>2019</td>\n",
       "      <td>0</td>\n",
       "      <td>YEAR</td>\n",
       "      <td>0</td>\n",
       "      <td>MONTH</td>\n",
       "    </tr>\n",
       "    <tr>\n",
       "      <th>3572</th>\n",
       "      <td>3602</td>\n",
       "      <td>East China University of Science and Technology</td>\n",
       "      <td>Power Engineering and Engineering Thermophysics</td>\n",
       "      <td>Xuhui District</td>\n",
       "      <td>Shanghai</td>\n",
       "      <td>Phd</td>\n",
       "      <td>English</td>\n",
       "      <td>38950.0</td>\n",
       "      <td>1</td>\n",
       "      <td>1</td>\n",
       "      <td>0</td>\n",
       "      <td>38950.0</td>\n",
       "      <td>Sep</td>\n",
       "      <td>2019</td>\n",
       "      <td>0</td>\n",
       "      <td>YEAR</td>\n",
       "      <td>0</td>\n",
       "      <td>MONTH</td>\n",
       "    </tr>\n",
       "    <tr>\n",
       "      <th>3573</th>\n",
       "      <td>3603</td>\n",
       "      <td>East China University of Science and Technology</td>\n",
       "      <td>Thermal Engineering</td>\n",
       "      <td>Xuhui District</td>\n",
       "      <td>Shanghai</td>\n",
       "      <td>Phd</td>\n",
       "      <td>English</td>\n",
       "      <td>38950.0</td>\n",
       "      <td>1</td>\n",
       "      <td>1</td>\n",
       "      <td>0</td>\n",
       "      <td>38950.0</td>\n",
       "      <td>Sep</td>\n",
       "      <td>2019</td>\n",
       "      <td>0</td>\n",
       "      <td>YEAR</td>\n",
       "      <td>0</td>\n",
       "      <td>MONTH</td>\n",
       "    </tr>\n",
       "    <tr>\n",
       "      <th>3574</th>\n",
       "      <td>3604</td>\n",
       "      <td>East China University of Science and Technology</td>\n",
       "      <td>Synthesis of Fine Chemical and Molecular</td>\n",
       "      <td>Xuhui District</td>\n",
       "      <td>Shanghai</td>\n",
       "      <td>Phd</td>\n",
       "      <td>English</td>\n",
       "      <td>38950.0</td>\n",
       "      <td>1</td>\n",
       "      <td>1</td>\n",
       "      <td>0</td>\n",
       "      <td>38950.0</td>\n",
       "      <td>Sep</td>\n",
       "      <td>2019</td>\n",
       "      <td>0</td>\n",
       "      <td>YEAR</td>\n",
       "      <td>0</td>\n",
       "      <td>MONTH</td>\n",
       "    </tr>\n",
       "    <tr>\n",
       "      <th>3575</th>\n",
       "      <td>3605</td>\n",
       "      <td>East China University of Science and Technology</td>\n",
       "      <td>Sociology of Law</td>\n",
       "      <td>Xuhui District</td>\n",
       "      <td>Shanghai</td>\n",
       "      <td>Phd</td>\n",
       "      <td>English</td>\n",
       "      <td>38950.0</td>\n",
       "      <td>1</td>\n",
       "      <td>1</td>\n",
       "      <td>0</td>\n",
       "      <td>38950.0</td>\n",
       "      <td>Sep</td>\n",
       "      <td>2019</td>\n",
       "      <td>0</td>\n",
       "      <td>YEAR</td>\n",
       "      <td>0</td>\n",
       "      <td>MONTH</td>\n",
       "    </tr>\n",
       "  </tbody>\n",
       "</table>\n",
       "</div>"
      ],
      "text/plain": [
       "      school_id                                       university  \\\n",
       "3571       3601  East China University of Science and Technology   \n",
       "3572       3602  East China University of Science and Technology   \n",
       "3573       3603  East China University of Science and Technology   \n",
       "3574       3604  East China University of Science and Technology   \n",
       "3575       3605  East China University of Science and Technology   \n",
       "\n",
       "                                                major        district  \\\n",
       "3571            Environmental Science and Engineering  Xuhui District   \n",
       "3572  Power Engineering and Engineering Thermophysics  Xuhui District   \n",
       "3573                              Thermal Engineering  Xuhui District   \n",
       "3574         Synthesis of Fine Chemical and Molecular  Xuhui District   \n",
       "3575                                 Sociology of Law  Xuhui District   \n",
       "\n",
       "          city level language  tuition_covered  accomodation_covered  \\\n",
       "3571  Shanghai   Phd  English          38950.0                     1   \n",
       "3572  Shanghai   Phd  English          38950.0                     1   \n",
       "3573  Shanghai   Phd  English          38950.0                     1   \n",
       "3574  Shanghai   Phd  English          38950.0                     1   \n",
       "3575  Shanghai   Phd  English          38950.0                     1   \n",
       "\n",
       "      living_expense_covered  tuition_fees_to_pay  original_tuition_fee  \\\n",
       "3571                       1                    0               38950.0   \n",
       "3572                       1                    0               38950.0   \n",
       "3573                       1                    0               38950.0   \n",
       "3574                       1                    0               38950.0   \n",
       "3575                       1                    0               38950.0   \n",
       "\n",
       "     start_month  start_year  accomodation_to_pay accomodation_duration  \\\n",
       "3571         Sep        2019                    0                  YEAR   \n",
       "3572         Sep        2019                    0                  YEAR   \n",
       "3573         Sep        2019                    0                  YEAR   \n",
       "3574         Sep        2019                    0                  YEAR   \n",
       "3575         Sep        2019                    0                  YEAR   \n",
       "\n",
       "      expense_to_pay expense_duration  \n",
       "3571               0            MONTH  \n",
       "3572               0            MONTH  \n",
       "3573               0            MONTH  \n",
       "3574               0            MONTH  \n",
       "3575               0            MONTH  "
      ]
     },
     "execution_count": 11,
     "metadata": {},
     "output_type": "execute_result"
    }
   ],
   "source": [
    "# Let us also look at the last 5 rows of the dataframe\n",
    "data.tail()"
   ]
  },
  {
   "cell_type": "code",
   "execution_count": 12,
   "id": "93604211",
   "metadata": {},
   "outputs": [
    {
     "data": {
      "text/plain": [
       "school_id                   0\n",
       "university                  0\n",
       "major                       0\n",
       "district                    0\n",
       "city                        0\n",
       "level                       0\n",
       "language                    0\n",
       "tuition_covered           123\n",
       "accomodation_covered        0\n",
       "living_expense_covered      0\n",
       "tuition_fees_to_pay         0\n",
       "original_tuition_fee      123\n",
       "start_month                 0\n",
       "start_year                  0\n",
       "accomodation_to_pay         0\n",
       "accomodation_duration       0\n",
       "expense_to_pay              0\n",
       "expense_duration            0\n",
       "dtype: int64"
      ]
     },
     "execution_count": 12,
     "metadata": {},
     "output_type": "execute_result"
    }
   ],
   "source": [
    "# Let us see how many null values present in the columns \n",
    "data.isna().sum()"
   ]
  },
  {
   "cell_type": "code",
   "execution_count": 13,
   "id": "35ea6e3a",
   "metadata": {},
   "outputs": [
    {
     "data": {
      "text/html": [
       "<div>\n",
       "<style scoped>\n",
       "    .dataframe tbody tr th:only-of-type {\n",
       "        vertical-align: middle;\n",
       "    }\n",
       "\n",
       "    .dataframe tbody tr th {\n",
       "        vertical-align: top;\n",
       "    }\n",
       "\n",
       "    .dataframe thead th {\n",
       "        text-align: right;\n",
       "    }\n",
       "</style>\n",
       "<table border=\"1\" class=\"dataframe\">\n",
       "  <thead>\n",
       "    <tr style=\"text-align: right;\">\n",
       "      <th></th>\n",
       "      <th>count</th>\n",
       "      <th>mean</th>\n",
       "      <th>std</th>\n",
       "      <th>min</th>\n",
       "      <th>25%</th>\n",
       "      <th>50%</th>\n",
       "      <th>75%</th>\n",
       "      <th>max</th>\n",
       "    </tr>\n",
       "  </thead>\n",
       "  <tbody>\n",
       "    <tr>\n",
       "      <th>tuition_covered</th>\n",
       "      <td>3453.0</td>\n",
       "      <td>20531.704315</td>\n",
       "      <td>12428.124918</td>\n",
       "      <td>0.0</td>\n",
       "      <td>10625.0</td>\n",
       "      <td>20000.0</td>\n",
       "      <td>26500.0</td>\n",
       "      <td>80000.0</td>\n",
       "    </tr>\n",
       "    <tr>\n",
       "      <th>tuition_fees_to_pay</th>\n",
       "      <td>3576.0</td>\n",
       "      <td>8433.516499</td>\n",
       "      <td>9519.340675</td>\n",
       "      <td>0.0</td>\n",
       "      <td>0.0</td>\n",
       "      <td>6000.0</td>\n",
       "      <td>11000.0</td>\n",
       "      <td>69000.0</td>\n",
       "    </tr>\n",
       "    <tr>\n",
       "      <th>original_tuition_fee</th>\n",
       "      <td>3453.0</td>\n",
       "      <td>28693.955980</td>\n",
       "      <td>15341.450293</td>\n",
       "      <td>0.0</td>\n",
       "      <td>20000.0</td>\n",
       "      <td>26500.0</td>\n",
       "      <td>34000.0</td>\n",
       "      <td>148000.0</td>\n",
       "    </tr>\n",
       "    <tr>\n",
       "      <th>accomodation_to_pay</th>\n",
       "      <td>3576.0</td>\n",
       "      <td>1376.461969</td>\n",
       "      <td>2802.526970</td>\n",
       "      <td>0.0</td>\n",
       "      <td>400.0</td>\n",
       "      <td>900.0</td>\n",
       "      <td>1200.0</td>\n",
       "      <td>24000.0</td>\n",
       "    </tr>\n",
       "    <tr>\n",
       "      <th>expense_to_pay</th>\n",
       "      <td>3576.0</td>\n",
       "      <td>1070.987136</td>\n",
       "      <td>601.297528</td>\n",
       "      <td>0.0</td>\n",
       "      <td>1000.0</td>\n",
       "      <td>1000.0</td>\n",
       "      <td>1500.0</td>\n",
       "      <td>2700.0</td>\n",
       "    </tr>\n",
       "  </tbody>\n",
       "</table>\n",
       "</div>"
      ],
      "text/plain": [
       "                       count          mean           std  min      25%  \\\n",
       "tuition_covered       3453.0  20531.704315  12428.124918  0.0  10625.0   \n",
       "tuition_fees_to_pay   3576.0   8433.516499   9519.340675  0.0      0.0   \n",
       "original_tuition_fee  3453.0  28693.955980  15341.450293  0.0  20000.0   \n",
       "accomodation_to_pay   3576.0   1376.461969   2802.526970  0.0    400.0   \n",
       "expense_to_pay        3576.0   1070.987136    601.297528  0.0   1000.0   \n",
       "\n",
       "                          50%      75%       max  \n",
       "tuition_covered       20000.0  26500.0   80000.0  \n",
       "tuition_fees_to_pay    6000.0  11000.0   69000.0  \n",
       "original_tuition_fee  26500.0  34000.0  148000.0  \n",
       "accomodation_to_pay     900.0   1200.0   24000.0  \n",
       "expense_to_pay         1000.0   1500.0    2700.0  "
      ]
     },
     "execution_count": 13,
     "metadata": {},
     "output_type": "execute_result"
    }
   ],
   "source": [
    "# Let us view the descriptive statistics of the dataframe. Note that this can only be applied to numerical values \n",
    "data[['tuition_covered', 'tuition_fees_to_pay', 'original_tuition_fee', 'accomodation_to_pay', 'expense_to_pay']].describe().T"
   ]
  },
  {
   "cell_type": "markdown",
   "id": "6b0fd6bd",
   "metadata": {},
   "source": [
    "## Data Visualization"
   ]
  },
  {
   "cell_type": "code",
   "execution_count": 14,
   "id": "52cfe75f",
   "metadata": {},
   "outputs": [
    {
     "data": {
      "text/plain": [
       "<AxesSubplot:xlabel='level', ylabel='count'>"
      ]
     },
     "execution_count": 14,
     "metadata": {},
     "output_type": "execute_result"
    },
    {
     "data": {
      "image/png": "[encoded data removed]",
      "text/plain": [
       "<Figure size 432x288 with 1 Axes>"
      ]
     },
     "metadata": {
      "needs_background": "light"
     },
     "output_type": "display_data"
    }
   ],
   "source": [
    "sns.countplot(x = data['level'])"
   ]
  },
  {
   "cell_type": "markdown",
   "id": "4e57e79c",
   "metadata": {},
   "source": [
    "More people apply for master level"
   ]
  },
  {
   "cell_type": "code",
   "execution_count": 15,
   "id": "247b5f3b",
   "metadata": {},
   "outputs": [
    {
     "data": {
      "text/plain": [
       "<AxesSubplot:xlabel='language', ylabel='count'>"
      ]
     },
     "execution_count": 15,
     "metadata": {},
     "output_type": "execute_result"
    },
    {
     "data": {
      "image/png": "[encoded data removed]",
      "text/plain": [
       "<Figure size 432x288 with 1 Axes>"
      ]
     },
     "metadata": {
      "needs_background": "light"
     },
     "output_type": "display_data"
    }
   ],
   "source": [
    "sns.countplot(x = data['language'])"
   ]
  },
  {
   "cell_type": "markdown",
   "id": "3007bc79",
   "metadata": {},
   "source": [
    "most people speak chinese"
   ]
  },
  {
   "cell_type": "markdown",
   "id": "d5313d6b",
   "metadata": {},
   "source": [
    "## Data Preprocessing for model 1(Predicting tuition_fees_to_pay)"
   ]
  },
  {
   "cell_type": "code",
   "execution_count": 16,
   "id": "b0dd7caf",
   "metadata": {},
   "outputs": [
    {
     "name": "stdout",
     "output_type": "stream",
     "text": [
      "220\n",
      "1007\n",
      "42\n",
      "437\n",
      "561\n"
     ]
    }
   ],
   "source": [
    "# Notice that the min values for all the selected columns are 0\n",
    "# Let us see how many 'O' values these columns have \n",
    "\n",
    "print(len(data[data['tuition_covered'] == 0]))\n",
    "print(len(data[data['tuition_fees_to_pay'] == 0]))\n",
    "print(len(data[data['original_tuition_fee'] == 0]))\n",
    "print(len(data[data['accomodation_to_pay'] == 0]))\n",
    "print(len(data[data['expense_to_pay'] == 0]))"
   ]
  },
  {
   "cell_type": "code",
   "execution_count": 17,
   "id": "47461268",
   "metadata": {},
   "outputs": [],
   "source": [
    "# Let us define the predictor columns and the target column \n",
    "# X is the predictor\n",
    "# y is the target variable\n",
    "X = data.drop(['tuition_fees_to_pay'], axis = 1)\n",
    "y = data['tuition_fees_to_pay']"
   ]
  },
  {
   "cell_type": "code",
   "execution_count": 18,
   "id": "78083900",
   "metadata": {},
   "outputs": [
    {
     "name": "stdout",
     "output_type": "stream",
     "text": [
      "['university', 'major', 'district', 'city', 'level', 'language', 'start_month', 'accomodation_duration', 'expense_duration']\n",
      "['school_id', 'tuition_covered', 'accomodation_covered', 'living_expense_covered', 'original_tuition_fee', 'start_year', 'accomodation_to_pay', 'expense_to_pay']\n"
     ]
    }
   ],
   "source": [
    "# Here we are differentiating between the columns that are objects and the ones that are not\n",
    "obj_cols = list(X.select_dtypes(include = 'object').columns)\n",
    "num_cols = list(X.select_dtypes(exclude = 'object').columns)\n",
    "print(obj_cols)\n",
    "print(num_cols)"
   ]
  },
  {
   "cell_type": "code",
   "execution_count": 19,
   "id": "ecce79b5",
   "metadata": {},
   "outputs": [
    {
     "data": {
      "text/plain": [
       "school_id                 0\n",
       "university                0\n",
       "major                     0\n",
       "district                  0\n",
       "city                      0\n",
       "level                     0\n",
       "language                  0\n",
       "tuition_covered           0\n",
       "accomodation_covered      0\n",
       "living_expense_covered    0\n",
       "original_tuition_fee      0\n",
       "start_month               0\n",
       "start_year                0\n",
       "accomodation_to_pay       0\n",
       "accomodation_duration     0\n",
       "expense_to_pay            0\n",
       "expense_duration          0\n",
       "dtype: int64"
      ]
     },
     "execution_count": 19,
     "metadata": {},
     "output_type": "execute_result"
    }
   ],
   "source": [
    "# Now we are going to fill the empty points with mean of the values in the column \n",
    "null = ['tuition_covered', 'original_tuition_fee']\n",
    "for col in null:\n",
    "    X[col] = X[col].fillna(X[col].mean())\n",
    "X.isna().sum()"
   ]
  },
  {
   "cell_type": "code",
   "execution_count": 20,
   "id": "5fc40575",
   "metadata": {},
   "outputs": [
    {
     "name": "stdout",
     "output_type": "stream",
     "text": [
      "<class 'pandas.core.frame.DataFrame'>\n",
      "RangeIndex: 3576 entries, 0 to 3575\n",
      "Data columns (total 17 columns):\n",
      " #   Column                  Non-Null Count  Dtype  \n",
      "---  ------                  --------------  -----  \n",
      " 0   school_id               3576 non-null   int64  \n",
      " 1   university              3576 non-null   object \n",
      " 2   major                   3576 non-null   object \n",
      " 3   district                3576 non-null   object \n",
      " 4   city                    3576 non-null   object \n",
      " 5   level                   3576 non-null   object \n",
      " 6   language                3576 non-null   object \n",
      " 7   tuition_covered         3576 non-null   float64\n",
      " 8   accomodation_covered    3576 non-null   int64  \n",
      " 9   living_expense_covered  3576 non-null   int64  \n",
      " 10  original_tuition_fee    3576 non-null   float64\n",
      " 11  start_month             3576 non-null   object \n",
      " 12  start_year              3576 non-null   int64  \n",
      " 13  accomodation_to_pay     3576 non-null   int64  \n",
      " 14  accomodation_duration   3576 non-null   object \n",
      " 15  expense_to_pay          3576 non-null   int64  \n",
      " 16  expense_duration        3576 non-null   object \n",
      "dtypes: float64(2), int64(6), object(9)\n",
      "memory usage: 475.1+ KB\n"
     ]
    }
   ],
   "source": [
    "X.info()"
   ]
  },
  {
   "cell_type": "code",
   "execution_count": 21,
   "id": "a6d148a0",
   "metadata": {},
   "outputs": [
    {
     "data": {
      "text/plain": [
       "array(['MONTH', 'YEAR', 'TERM', 'DAY', -1, 'SEMESTER'], dtype=object)"
      ]
     },
     "execution_count": 21,
     "metadata": {},
     "output_type": "execute_result"
    }
   ],
   "source": [
    "X['accomodation_duration'].unique()"
   ]
  },
  {
   "cell_type": "markdown",
   "id": "b1e92877",
   "metadata": {},
   "source": [
    "The Accomodation duration column has an integer \"-1\". To successfully encode the all the categorical values in the dataset, we must change the -1 integer to an object too"
   ]
  },
  {
   "cell_type": "code",
   "execution_count": 22,
   "id": "cc0d4607",
   "metadata": {},
   "outputs": [],
   "source": [
    "X1 = X\n",
    "maap = {'MONTH': 'MONTH', 'YEAR': 'YEAR', 'TERM': 'TERM', 'DAY': 'DAY', -1: '-1', 'SEMESTER': 'SEMESTER'}\n",
    "X1['accomodation_duration'] = X1['accomodation_duration'].map(maap)"
   ]
  },
  {
   "cell_type": "code",
   "execution_count": 23,
   "id": "d6347389",
   "metadata": {},
   "outputs": [
    {
     "data": {
      "text/html": [
       "<div>\n",
       "<style scoped>\n",
       "    .dataframe tbody tr th:only-of-type {\n",
       "        vertical-align: middle;\n",
       "    }\n",
       "\n",
       "    .dataframe tbody tr th {\n",
       "        vertical-align: top;\n",
       "    }\n",
       "\n",
       "    .dataframe thead th {\n",
       "        text-align: right;\n",
       "    }\n",
       "</style>\n",
       "<table border=\"1\" class=\"dataframe\">\n",
       "  <thead>\n",
       "    <tr style=\"text-align: right;\">\n",
       "      <th></th>\n",
       "      <th>university</th>\n",
       "      <th>major</th>\n",
       "      <th>district</th>\n",
       "      <th>city</th>\n",
       "      <th>level</th>\n",
       "      <th>language</th>\n",
       "      <th>tuition_covered</th>\n",
       "      <th>accomodation_covered</th>\n",
       "      <th>living_expense_covered</th>\n",
       "      <th>original_tuition_fee</th>\n",
       "      <th>start_month</th>\n",
       "      <th>start_year</th>\n",
       "      <th>accomodation_to_pay</th>\n",
       "      <th>accomodation_duration</th>\n",
       "      <th>expense_to_pay</th>\n",
       "      <th>expense_duration</th>\n",
       "    </tr>\n",
       "  </thead>\n",
       "  <tbody>\n",
       "    <tr>\n",
       "      <th>0</th>\n",
       "      <td>33</td>\n",
       "      <td>1135</td>\n",
       "      <td>32</td>\n",
       "      <td>13</td>\n",
       "      <td>2</td>\n",
       "      <td>1</td>\n",
       "      <td>7500.0</td>\n",
       "      <td>0</td>\n",
       "      <td>0</td>\n",
       "      <td>7500.0</td>\n",
       "      <td>2</td>\n",
       "      <td>2020</td>\n",
       "      <td>9750</td>\n",
       "      <td>2</td>\n",
       "      <td>1000</td>\n",
       "      <td>0</td>\n",
       "    </tr>\n",
       "    <tr>\n",
       "      <th>1</th>\n",
       "      <td>6</td>\n",
       "      <td>1017</td>\n",
       "      <td>5</td>\n",
       "      <td>9</td>\n",
       "      <td>2</td>\n",
       "      <td>0</td>\n",
       "      <td>10000.0</td>\n",
       "      <td>0</td>\n",
       "      <td>0</td>\n",
       "      <td>20000.0</td>\n",
       "      <td>4</td>\n",
       "      <td>2019</td>\n",
       "      <td>1500</td>\n",
       "      <td>2</td>\n",
       "      <td>1500</td>\n",
       "      <td>0</td>\n",
       "    </tr>\n",
       "    <tr>\n",
       "      <th>2</th>\n",
       "      <td>6</td>\n",
       "      <td>1016</td>\n",
       "      <td>5</td>\n",
       "      <td>9</td>\n",
       "      <td>2</td>\n",
       "      <td>0</td>\n",
       "      <td>10000.0</td>\n",
       "      <td>0</td>\n",
       "      <td>0</td>\n",
       "      <td>20000.0</td>\n",
       "      <td>4</td>\n",
       "      <td>2019</td>\n",
       "      <td>1500</td>\n",
       "      <td>2</td>\n",
       "      <td>1500</td>\n",
       "      <td>0</td>\n",
       "    </tr>\n",
       "    <tr>\n",
       "      <th>3</th>\n",
       "      <td>6</td>\n",
       "      <td>1018</td>\n",
       "      <td>5</td>\n",
       "      <td>9</td>\n",
       "      <td>2</td>\n",
       "      <td>0</td>\n",
       "      <td>10000.0</td>\n",
       "      <td>0</td>\n",
       "      <td>0</td>\n",
       "      <td>20000.0</td>\n",
       "      <td>4</td>\n",
       "      <td>2019</td>\n",
       "      <td>1500</td>\n",
       "      <td>2</td>\n",
       "      <td>1500</td>\n",
       "      <td>0</td>\n",
       "    </tr>\n",
       "    <tr>\n",
       "      <th>4</th>\n",
       "      <td>26</td>\n",
       "      <td>748</td>\n",
       "      <td>21</td>\n",
       "      <td>12</td>\n",
       "      <td>2</td>\n",
       "      <td>0</td>\n",
       "      <td>7000.0</td>\n",
       "      <td>1</td>\n",
       "      <td>1</td>\n",
       "      <td>7000.0</td>\n",
       "      <td>4</td>\n",
       "      <td>2019</td>\n",
       "      <td>0</td>\n",
       "      <td>5</td>\n",
       "      <td>0</td>\n",
       "      <td>0</td>\n",
       "    </tr>\n",
       "  </tbody>\n",
       "</table>\n",
       "</div>"
      ],
      "text/plain": [
       "   university  major  district  city  level  language  tuition_covered  \\\n",
       "0          33   1135        32    13      2         1           7500.0   \n",
       "1           6   1017         5     9      2         0          10000.0   \n",
       "2           6   1016         5     9      2         0          10000.0   \n",
       "3           6   1018         5     9      2         0          10000.0   \n",
       "4          26    748        21    12      2         0           7000.0   \n",
       "\n",
       "   accomodation_covered  living_expense_covered  original_tuition_fee  \\\n",
       "0                     0                       0                7500.0   \n",
       "1                     0                       0               20000.0   \n",
       "2                     0                       0               20000.0   \n",
       "3                     0                       0               20000.0   \n",
       "4                     1                       1                7000.0   \n",
       "\n",
       "   start_month  start_year  accomodation_to_pay  accomodation_duration  \\\n",
       "0            2        2020                 9750                      2   \n",
       "1            4        2019                 1500                      2   \n",
       "2            4        2019                 1500                      2   \n",
       "3            4        2019                 1500                      2   \n",
       "4            4        2019                    0                      5   \n",
       "\n",
       "   expense_to_pay  expense_duration  \n",
       "0            1000                 0  \n",
       "1            1500                 0  \n",
       "2            1500                 0  \n",
       "3            1500                 0  \n",
       "4               0                 0  "
      ]
     },
     "execution_count": 23,
     "metadata": {},
     "output_type": "execute_result"
    }
   ],
   "source": [
    "# Let us use the LabelEncoder for the columns that are objects\n",
    "X1 = X.copy().drop(['school_id'], axis = 1)\n",
    "for col in obj_cols:\n",
    "    le = LabelEncoder()\n",
    "    X1[col] = le.fit_transform(X1[col])\n",
    "X1.head()"
   ]
  },
  {
   "cell_type": "code",
   "execution_count": 24,
   "id": "24bb4776",
   "metadata": {},
   "outputs": [
    {
     "data": {
      "image/png": "[encoded data removed]",
      "text/plain": [
       "<Figure size 432x288 with 2 Axes>"
      ]
     },
     "metadata": {},
     "output_type": "display_data"
    }
   ],
   "source": [
    "# Let us see what our target looks like visually after a log transformation\n",
    "sns.set()\n",
    "y_transformed = pd.Series(np.log1p(y))\n",
    "\n",
    "fig, ax = plt.subplots(1, 2)\n",
    "sns.distplot(y, ax=ax[0])\n",
    "plt.title(\"Target after Log transformation\")\n",
    "# ax[0].axvline(y_transformed)\n",
    "sns.distplot(y_transformed, ax=ax[1])\n",
    "plt.show()"
   ]
  },
  {
   "cell_type": "code",
   "execution_count": 25,
   "id": "7abd2de8",
   "metadata": {},
   "outputs": [],
   "source": [
    "# We are splitting the test and train dataset we will do it for the normal values \n",
    "# and the transformed values \n",
    "xtrain, xtest, ytrain, ytest = train_test_split(X1, y)\n",
    "xtrain_t, xtest_t, ytrain_t, ytest_t = train_test_split(X1, y_transformed)"
   ]
  },
  {
   "cell_type": "markdown",
   "id": "c05a5ac1",
   "metadata": {},
   "source": [
    "## Training model 1(Predicting tuition_fees_to_pay)"
   ]
  },
  {
   "cell_type": "code",
   "execution_count": 26,
   "id": "3af039b7",
   "metadata": {},
   "outputs": [
    {
     "data": {
      "text/plain": [
       "RandomForestRegressor()"
      ]
     },
     "execution_count": 26,
     "metadata": {},
     "output_type": "execute_result"
    }
   ],
   "source": [
    "# Let us import RandomForestRegressor to fit our data\n",
    "from sklearn.ensemble import RandomForestRegressor\n",
    "rf = RandomForestRegressor()\n",
    "rf1 = RandomForestRegressor()\n",
    "rf.fit(xtrain,ytrain)\n",
    "rf1.fit(xtrain_t, ytrain_t)"
   ]
  },
  {
   "cell_type": "code",
   "execution_count": 27,
   "id": "ed031a09",
   "metadata": {},
   "outputs": [
    {
     "name": "stdout",
     "output_type": "stream",
     "text": [
      "Mae Normal - 37.31370246085011\n",
      "Mae trans - 57.39299325215629\n"
     ]
    }
   ],
   "source": [
    "# Let us validate our model\n",
    "val = rf.predict(xtest)\n",
    "val2 = np.expm1(rf1.predict(xtest_t))\n",
    "print('Mae Normal -', mean_absolute_error(val, ytest))\n",
    "print('Mae trans -', mean_absolute_error(val2, np.expm1(ytest_t)))"
   ]
  },
  {
   "cell_type": "markdown",
   "id": "132121d9",
   "metadata": {},
   "source": [
    "APPLYING SCALER TO SEE IF IT IMPROVES ACCURACY AND REDUCES MAE"
   ]
  },
  {
   "cell_type": "code",
   "execution_count": 28,
   "id": "e1328885",
   "metadata": {},
   "outputs": [],
   "source": [
    "scaler = MinMaxScaler()\n",
    "X2 = scaler.fit_transform(X1)\n",
    "xtrain1, xtest1, ytrain1, ytest1 = train_test_split(X2, y)\n",
    "xtrain_t1, xtest_t1, ytrain_t1, ytest_t1 = train_test_split(X2, y_transformed)"
   ]
  },
  {
   "cell_type": "code",
   "execution_count": 29,
   "id": "343c4261",
   "metadata": {},
   "outputs": [
    {
     "data": {
      "text/plain": [
       "RandomForestRegressor()"
      ]
     },
     "execution_count": 29,
     "metadata": {},
     "output_type": "execute_result"
    }
   ],
   "source": [
    "rf2 = RandomForestRegressor()\n",
    "rf3 = RandomForestRegressor()\n",
    "rf2.fit(xtrain1, ytrain1)\n",
    "rf3.fit(xtrain_t1, ytrain_t1)"
   ]
  },
  {
   "cell_type": "code",
   "execution_count": 30,
   "id": "9d6b1e2b",
   "metadata": {},
   "outputs": [
    {
     "name": "stdout",
     "output_type": "stream",
     "text": [
      "Mae Normal - 23.182829977628636\n",
      "Mae trans - 153.3708404954551\n"
     ]
    }
   ],
   "source": [
    "val3 = rf2.predict(xtest1)\n",
    "val4 = np.expm1(rf3.predict(xtest_t1))\n",
    "print('Mae Normal -', mean_absolute_error(val3, ytest1))\n",
    "print('Mae trans -', mean_absolute_error(val4, np.expm1(ytest_t1)))"
   ]
  },
  {
   "cell_type": "markdown",
   "id": "6222e36a",
   "metadata": {},
   "source": [
    "USING DUMMIES TO SEE IF IT IMPROVES ACCURACY ALSO"
   ]
  },
  {
   "cell_type": "code",
   "execution_count": 31,
   "id": "4a1b44fe",
   "metadata": {},
   "outputs": [],
   "source": [
    "dummy_X = pd.get_dummies(X1, columns = obj_cols)\n",
    "xtrain2, xtest2, ytrain2, ytest2 = train_test_split(X2, y)\n",
    "xtrain_t2, xtest_t2, ytrain_t2, ytest_t2 = train_test_split(X2, y_transformed)"
   ]
  },
  {
   "cell_type": "code",
   "execution_count": 32,
   "id": "997f94dc",
   "metadata": {},
   "outputs": [
    {
     "data": {
      "text/plain": [
       "RandomForestRegressor()"
      ]
     },
     "execution_count": 32,
     "metadata": {},
     "output_type": "execute_result"
    }
   ],
   "source": [
    "rf4 = RandomForestRegressor()\n",
    "rf5 = RandomForestRegressor()\n",
    "rf4.fit(xtrain2, ytrain2)\n",
    "rf5.fit(xtrain_t2, ytrain_t2)"
   ]
  },
  {
   "cell_type": "code",
   "execution_count": 33,
   "id": "7de29863",
   "metadata": {},
   "outputs": [
    {
     "name": "stdout",
     "output_type": "stream",
     "text": [
      "Mae Normal - 49365.654138702455\n",
      "Mae trans - 73.60008938860206\n"
     ]
    }
   ],
   "source": [
    "val5 = rf4.predict(xtest)\n",
    "val6 = np.expm1(rf5.predict(xtest_t1))\n",
    "print('Mae Normal -', mean_absolute_error(val5, ytest1))\n",
    "print('Mae trans -', mean_absolute_error(val6, np.expm1(ytest_t1)))"
   ]
  },
  {
   "cell_type": "code",
   "execution_count": 34,
   "id": "6a425d5c",
   "metadata": {},
   "outputs": [],
   "source": [
    "# saving the best model as pickled file for offline batch prediction\n",
    "\n",
    "import pickle\n",
    "pickle.dump(rf3, open('model.pkl', 'wb'))"
   ]
  },
  {
   "cell_type": "code",
   "execution_count": 35,
   "id": "61d7b4b0",
   "metadata": {},
   "outputs": [
    {
     "name": "stdout",
     "output_type": "stream",
     "text": [
      "Mae trans - 153.3708404954551\n"
     ]
    }
   ],
   "source": [
    "# reloading model and predicting\n",
    "model = pickle.load(open('model.pkl','rb'))\n",
    "predict_val = np.expm1(model.predict(xtest_t1))\n",
    "print('Mae trans -', mean_absolute_error(predict_val, np.expm1(ytest_t1)))"
   ]
  },
  {
   "cell_type": "markdown",
   "id": "9aa392ec",
   "metadata": {},
   "source": [
    "## Data Preprocessing for model 2 (Predicting )"
   ]
  },
  {
   "cell_type": "code",
   "execution_count": 36,
   "id": "e1f8cdf0",
   "metadata": {},
   "outputs": [],
   "source": [
    "# Let us define the predictor columns and the target column \n",
    "# X2 is the predictor\n",
    "# y2 is the target variable\n",
    "X2 = data.drop(['accomodation_to_pay'], axis = 1)\n",
    "y2 = data['accomodation_to_pay']"
   ]
  },
  {
   "cell_type": "code",
   "execution_count": 37,
   "id": "7168f8b3",
   "metadata": {},
   "outputs": [
    {
     "name": "stdout",
     "output_type": "stream",
     "text": [
      "['university', 'major', 'district', 'city', 'level', 'language', 'start_month', 'accomodation_duration', 'expense_duration']\n",
      "['school_id', 'tuition_covered', 'accomodation_covered', 'living_expense_covered', 'tuition_fees_to_pay', 'original_tuition_fee', 'start_year', 'expense_to_pay']\n"
     ]
    }
   ],
   "source": [
    "# Here we are differentiating between the columns that are objects and the ones that are not\n",
    "obj_cols2 = list(X2.select_dtypes(include = 'object').columns)\n",
    "num_cols2 = list(X2.select_dtypes(exclude = 'object').columns)\n",
    "print(obj_cols2)\n",
    "print(num_cols2)"
   ]
  },
  {
   "cell_type": "code",
   "execution_count": 38,
   "id": "5b599af0",
   "metadata": {},
   "outputs": [
    {
     "data": {
      "text/plain": [
       "school_id                 0\n",
       "university                0\n",
       "major                     0\n",
       "district                  0\n",
       "city                      0\n",
       "level                     0\n",
       "language                  0\n",
       "tuition_covered           0\n",
       "accomodation_covered      0\n",
       "living_expense_covered    0\n",
       "tuition_fees_to_pay       0\n",
       "original_tuition_fee      0\n",
       "start_month               0\n",
       "start_year                0\n",
       "accomodation_duration     0\n",
       "expense_to_pay            0\n",
       "expense_duration          0\n",
       "dtype: int64"
      ]
     },
     "execution_count": 38,
     "metadata": {},
     "output_type": "execute_result"
    }
   ],
   "source": [
    "# Now we are going to fill the empty points with mean of the values in the column \n",
    "null = ['tuition_covered', 'original_tuition_fee']\n",
    "for col in null:\n",
    "    X2[col] = X2[col].fillna(X2[col].mean())\n",
    "X2.isna().sum()"
   ]
  },
  {
   "cell_type": "code",
   "execution_count": 39,
   "id": "b3b6a073",
   "metadata": {},
   "outputs": [
    {
     "data": {
      "text/plain": [
       "array(['MONTH', 'YEAR', 'TERM', 'DAY', -1, 'SEMESTER'], dtype=object)"
      ]
     },
     "execution_count": 39,
     "metadata": {},
     "output_type": "execute_result"
    }
   ],
   "source": [
    "X2['accomodation_duration'].unique()"
   ]
  },
  {
   "cell_type": "markdown",
   "id": "566aae03",
   "metadata": {},
   "source": [
    "The Accomodation duration column has an integer \"-1\". To successfully encode the all the categorical values in the dataset, we must change the -1 integer to an object too"
   ]
  },
  {
   "cell_type": "code",
   "execution_count": 40,
   "id": "e6c856f2",
   "metadata": {},
   "outputs": [],
   "source": [
    "X21 = X2\n",
    "maap = {'MONTH': 'MONTH', 'YEAR': 'YEAR', 'TERM': 'TERM', 'DAY': 'DAY', -1: '-1', 'SEMESTER': 'SEMESTER'}\n",
    "X21['accomodation_duration'] = X21['accomodation_duration'].map(maap)"
   ]
  },
  {
   "cell_type": "code",
   "execution_count": 41,
   "id": "3705f950",
   "metadata": {},
   "outputs": [
    {
     "data": {
      "text/html": [
       "<div>\n",
       "<style scoped>\n",
       "    .dataframe tbody tr th:only-of-type {\n",
       "        vertical-align: middle;\n",
       "    }\n",
       "\n",
       "    .dataframe tbody tr th {\n",
       "        vertical-align: top;\n",
       "    }\n",
       "\n",
       "    .dataframe thead th {\n",
       "        text-align: right;\n",
       "    }\n",
       "</style>\n",
       "<table border=\"1\" class=\"dataframe\">\n",
       "  <thead>\n",
       "    <tr style=\"text-align: right;\">\n",
       "      <th></th>\n",
       "      <th>university</th>\n",
       "      <th>major</th>\n",
       "      <th>district</th>\n",
       "      <th>city</th>\n",
       "      <th>level</th>\n",
       "      <th>language</th>\n",
       "      <th>tuition_covered</th>\n",
       "      <th>accomodation_covered</th>\n",
       "      <th>living_expense_covered</th>\n",
       "      <th>tuition_fees_to_pay</th>\n",
       "      <th>original_tuition_fee</th>\n",
       "      <th>start_month</th>\n",
       "      <th>start_year</th>\n",
       "      <th>accomodation_duration</th>\n",
       "      <th>expense_to_pay</th>\n",
       "      <th>expense_duration</th>\n",
       "    </tr>\n",
       "  </thead>\n",
       "  <tbody>\n",
       "    <tr>\n",
       "      <th>0</th>\n",
       "      <td>33</td>\n",
       "      <td>1135</td>\n",
       "      <td>32</td>\n",
       "      <td>13</td>\n",
       "      <td>2</td>\n",
       "      <td>1</td>\n",
       "      <td>7500.0</td>\n",
       "      <td>0</td>\n",
       "      <td>0</td>\n",
       "      <td>0</td>\n",
       "      <td>7500.0</td>\n",
       "      <td>2</td>\n",
       "      <td>2020</td>\n",
       "      <td>2</td>\n",
       "      <td>1000</td>\n",
       "      <td>0</td>\n",
       "    </tr>\n",
       "    <tr>\n",
       "      <th>1</th>\n",
       "      <td>6</td>\n",
       "      <td>1017</td>\n",
       "      <td>5</td>\n",
       "      <td>9</td>\n",
       "      <td>2</td>\n",
       "      <td>0</td>\n",
       "      <td>10000.0</td>\n",
       "      <td>0</td>\n",
       "      <td>0</td>\n",
       "      <td>10000</td>\n",
       "      <td>20000.0</td>\n",
       "      <td>4</td>\n",
       "      <td>2019</td>\n",
       "      <td>2</td>\n",
       "      <td>1500</td>\n",
       "      <td>0</td>\n",
       "    </tr>\n",
       "    <tr>\n",
       "      <th>2</th>\n",
       "      <td>6</td>\n",
       "      <td>1016</td>\n",
       "      <td>5</td>\n",
       "      <td>9</td>\n",
       "      <td>2</td>\n",
       "      <td>0</td>\n",
       "      <td>10000.0</td>\n",
       "      <td>0</td>\n",
       "      <td>0</td>\n",
       "      <td>10000</td>\n",
       "      <td>20000.0</td>\n",
       "      <td>4</td>\n",
       "      <td>2019</td>\n",
       "      <td>2</td>\n",
       "      <td>1500</td>\n",
       "      <td>0</td>\n",
       "    </tr>\n",
       "    <tr>\n",
       "      <th>3</th>\n",
       "      <td>6</td>\n",
       "      <td>1018</td>\n",
       "      <td>5</td>\n",
       "      <td>9</td>\n",
       "      <td>2</td>\n",
       "      <td>0</td>\n",
       "      <td>10000.0</td>\n",
       "      <td>0</td>\n",
       "      <td>0</td>\n",
       "      <td>10000</td>\n",
       "      <td>20000.0</td>\n",
       "      <td>4</td>\n",
       "      <td>2019</td>\n",
       "      <td>2</td>\n",
       "      <td>1500</td>\n",
       "      <td>0</td>\n",
       "    </tr>\n",
       "    <tr>\n",
       "      <th>4</th>\n",
       "      <td>26</td>\n",
       "      <td>748</td>\n",
       "      <td>21</td>\n",
       "      <td>12</td>\n",
       "      <td>2</td>\n",
       "      <td>0</td>\n",
       "      <td>7000.0</td>\n",
       "      <td>1</td>\n",
       "      <td>1</td>\n",
       "      <td>0</td>\n",
       "      <td>7000.0</td>\n",
       "      <td>4</td>\n",
       "      <td>2019</td>\n",
       "      <td>5</td>\n",
       "      <td>0</td>\n",
       "      <td>0</td>\n",
       "    </tr>\n",
       "  </tbody>\n",
       "</table>\n",
       "</div>"
      ],
      "text/plain": [
       "   university  major  district  city  level  language  tuition_covered  \\\n",
       "0          33   1135        32    13      2         1           7500.0   \n",
       "1           6   1017         5     9      2         0          10000.0   \n",
       "2           6   1016         5     9      2         0          10000.0   \n",
       "3           6   1018         5     9      2         0          10000.0   \n",
       "4          26    748        21    12      2         0           7000.0   \n",
       "\n",
       "   accomodation_covered  living_expense_covered  tuition_fees_to_pay  \\\n",
       "0                     0                       0                    0   \n",
       "1                     0                       0                10000   \n",
       "2                     0                       0                10000   \n",
       "3                     0                       0                10000   \n",
       "4                     1                       1                    0   \n",
       "\n",
       "   original_tuition_fee  start_month  start_year  accomodation_duration  \\\n",
       "0                7500.0            2        2020                      2   \n",
       "1               20000.0            4        2019                      2   \n",
       "2               20000.0            4        2019                      2   \n",
       "3               20000.0            4        2019                      2   \n",
       "4                7000.0            4        2019                      5   \n",
       "\n",
       "   expense_to_pay  expense_duration  \n",
       "0            1000                 0  \n",
       "1            1500                 0  \n",
       "2            1500                 0  \n",
       "3            1500                 0  \n",
       "4               0                 0  "
      ]
     },
     "execution_count": 41,
     "metadata": {},
     "output_type": "execute_result"
    }
   ],
   "source": [
    "# Let us use the LabelEncoder for the columns that are objects\n",
    "X21 = X2.drop(['school_id'], axis = 1)\n",
    "for col in obj_cols2:\n",
    "    le2 = LabelEncoder()\n",
    "    X21[col] = le2.fit_transform(X21[col])\n",
    "X21.head()"
   ]
  },
  {
   "cell_type": "code",
   "execution_count": 42,
   "id": "5afec9de",
   "metadata": {},
   "outputs": [
    {
     "data": {
      "image/png": "[encoded data removed]",
      "text/plain": [
       "<Figure size 432x288 with 2 Axes>"
      ]
     },
     "metadata": {},
     "output_type": "display_data"
    }
   ],
   "source": [
    "# Let us see what our target looks like visually after a log transformation\n",
    "sns.set()\n",
    "y2_transformed = pd.Series(np.log1p(y2))\n",
    "\n",
    "fig, ax = plt.subplots(1, 2)\n",
    "sns.distplot(y2, ax=ax[0])\n",
    "plt.title(\"Target after Log transformation\")\n",
    "# ax[0].axvline(y_transformed)\n",
    "sns.distplot(y2_transformed, ax=ax[1])\n",
    "plt.show()"
   ]
  },
  {
   "cell_type": "code",
   "execution_count": 43,
   "id": "bdbeefa4",
   "metadata": {},
   "outputs": [],
   "source": [
    "# We are splitting the test and train dataset we will do it for the normal values \n",
    "# and the transformed values \n",
    "x2train, x2test, y2train, y2test = train_test_split(X21, y2)\n",
    "x2train_t, x2test_t, y2train_t, y2test_t = train_test_split(X21, y2_transformed)"
   ]
  },
  {
   "cell_type": "markdown",
   "id": "e9148f44",
   "metadata": {},
   "source": [
    "## Training model 2(Predicting accomodation_to_pay)"
   ]
  },
  {
   "cell_type": "code",
   "execution_count": 44,
   "id": "9821bfab",
   "metadata": {},
   "outputs": [
    {
     "data": {
      "text/plain": [
       "RandomForestRegressor()"
      ]
     },
     "execution_count": 44,
     "metadata": {},
     "output_type": "execute_result"
    }
   ],
   "source": [
    "# Let us import RandomForestRegressor to fit our data\n",
    "from sklearn.ensemble import RandomForestRegressor\n",
    "randf = RandomForestRegressor()\n",
    "randf1 = RandomForestRegressor()\n",
    "randf.fit(x2train,y2train)\n",
    "randf1.fit(x2train_t, y2train_t)"
   ]
  },
  {
   "cell_type": "code",
   "execution_count": 45,
   "id": "cb2e7652",
   "metadata": {},
   "outputs": [
    {
     "name": "stdout",
     "output_type": "stream",
     "text": [
      "Mae Normal - 33.30805369127517\n",
      "Mae trans - 14.72411341468523\n"
     ]
    }
   ],
   "source": [
    "# Let us validate our model\n",
    "evall = randf.predict(x2test)\n",
    "eval2 = np.expm1(randf1.predict(x2test_t))\n",
    "print('Mae Normal -', mean_absolute_error(evall, y2test))\n",
    "print('Mae trans -', mean_absolute_error(eval2, np.expm1(y2test_t)))"
   ]
  },
  {
   "cell_type": "code",
   "execution_count": null,
   "id": "0c778b2d",
   "metadata": {},
   "outputs": [],
   "source": []
  }
 ],
 "metadata": {
  "kernelspec": {
   "display_name": "Python 3 (ipykernel)",
   "language": "python",
   "name": "python3"
  },
  "language_info": {
   "codemirror_mode": {
    "name": "ipython",
    "version": 3
   },
   "file_extension": ".py",
   "mimetype": "text/x-python",
   "name": "python",
   "nbconvert_exporter": "python",
   "pygments_lexer": "ipython3",
   "version": "3.9.7"
  }
 },
 "nbformat": 4,
 "nbformat_minor": 5
}
